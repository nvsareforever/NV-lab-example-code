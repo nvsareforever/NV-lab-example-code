{
 "cells": [
  {
   "cell_type": "code",
   "execution_count": null,
   "metadata": {},
   "outputs": [],
   "source": [
    "# To run Jupyterlab on lab computers, please use 'python -m jupyterlab' in the Anaconda Prompt"
   ]
  },
  {
   "cell_type": "code",
   "execution_count": null,
   "metadata": {},
   "outputs": [],
   "source": [
    "%pylab inline    # This is useful. It basically imports numpy and matplotlib. So you don't need to add 'np.' or 'plt.' to the front of the functions"
   ]
  },
  {
   "cell_type": "markdown",
   "metadata": {},
   "source": [
    "# Comminication with devices"
   ]
  },
  {
   "cell_type": "markdown",
   "metadata": {},
   "source": [
    "## NI USB-6008 to generate the voltage to control the nanopositioning system"
   ]
  },
  {
   "cell_type": "code",
   "execution_count": null,
   "metadata": {},
   "outputs": [],
   "source": [
    "import PyDAQmx as pydaqmx"
   ]
  },
  {
   "cell_type": "code",
   "execution_count": null,
   "metadata": {},
   "outputs": [],
   "source": [
    "'''\n",
    "Output 2.5 V on ao0 channel of Dev2\n",
    "The address '/Dev2/ao0' can be found in NI MAX and the channel list of USB-6008 device\n",
    "'''\n",
    "\n",
    "z_ao = 2.5\n",
    "\n",
    "task_z = pydaqmx.Task()\n",
    "task_z.CreateAOVoltageChan(\"/Dev2/ao0\",\"\", 0,5.0,pydaqmx.DAQmx_Val_Volts,None)\n",
    "\n",
    "task_z.StartTask()\n",
    "task_z.WriteAnalogScalarF64(1,10.0,z_ao,None)\n",
    "task_z.StopTask()\n"
   ]
  },
  {
   "cell_type": "markdown",
   "metadata": {},
   "source": [
    "## Another option: use MCC USB 3101"
   ]
  },
  {
   "cell_type": "code",
   "execution_count": 1,
   "metadata": {},
   "outputs": [],
   "source": [
    "from mcculw import ul\n",
    "from mcculw.enums import InterfaceType"
   ]
  },
  {
   "cell_type": "code",
   "execution_count": 7,
   "metadata": {},
   "outputs": [],
   "source": [
    "def config_first_detected_device(board_num, dev_id_list=None):\n",
    "    \"\"\"Adds the first available device to the UL.  If a types_list is specified,\n",
    "    the first available device in the types list will be add to the UL.\n",
    "\n",
    "    Parameters\n",
    "    ----------\n",
    "    board_num : int\n",
    "        The board number to assign to the board when configuring the device.\n",
    "\n",
    "    dev_id_list : list[int], optional\n",
    "        A list of product IDs used to filter the results. Default is None.\n",
    "        See UL documentation for device IDs.\n",
    "    \"\"\"\n",
    "    ul.ignore_instacal()\n",
    "    devices = ul.get_daq_device_inventory(InterfaceType.ANY)\n",
    "    if not devices:\n",
    "        raise Exception('Error: No DAQ devices found')\n",
    "\n",
    "    print('Found', len(devices), 'DAQ device(s):')\n",
    "    for device in devices:\n",
    "        print('  ', device.product_name, ' (', device.unique_id, ') - ',\n",
    "              'Device ID = ', device.product_id, sep='')\n",
    "\n",
    "    device = devices[0]\n",
    "    if dev_id_list:\n",
    "        device = next((device for device in devices\n",
    "                       if device.product_id in dev_id_list), None)\n",
    "        if not device:\n",
    "            err_str = 'Error: No DAQ device found in device ID list: '\n",
    "            err_str += ','.join(str(dev_id) for dev_id in dev_id_list)\n",
    "            raise Exception(err_str)\n",
    "\n",
    "    # Add the first DAQ device to the UL with the specified board number\n",
    "    ul.create_daq_device(board_num, device)"
   ]
  },
  {
   "cell_type": "code",
   "execution_count": 10,
   "metadata": {},
   "outputs": [
    {
     "name": "stdout",
     "output_type": "stream",
     "text": [
      "Found 1 DAQ device(s):\n",
      "  USB-3101 (2065A61) - Device ID = 154\n"
     ]
    }
   ],
   "source": [
    "board_num=0\n",
    "config_first_detected_device(board_num)"
   ]
  },
  {
   "cell_type": "code",
   "execution_count": null,
   "metadata": {},
   "outputs": [],
   "source": [
    "def voltage_to_data(volt):\n",
    "    return int(volt/10*(2**16-1))"
   ]
  },
  {
   "cell_type": "code",
   "execution_count": 12,
   "metadata": {
    "scrolled": true
   },
   "outputs": [],
   "source": [
    "'''\n",
    "Analog output on channel 0\n",
    "This device has 16-bit resolution. It accepts 'data_value' from 0~65535(or 2**16-1) corresponding to 0~10 V\n",
    "''' \n",
    "ul.a_out(board_num, channel=0, ul_range=0, data_value=voltage_to_data(5))"
   ]
  },
  {
   "cell_type": "markdown",
   "metadata": {},
   "source": [
    "## Swabian Time Tagger"
   ]
  },
  {
   "cell_type": "code",
   "execution_count": null,
   "metadata": {},
   "outputs": [],
   "source": [
    "import TimeTagger"
   ]
  },
  {
   "cell_type": "code",
   "execution_count": null,
   "metadata": {},
   "outputs": [],
   "source": [
    "# Counter\n",
    "tagger = TimeTagger.createTimeTagger()\n",
    "binwidth = 0.1e12    # unit: ps\n",
    "n_values = 1    # number of points to record for each readout\n",
    "counter = TimeTagger.Counter(tagger=tagger, channels=[1], binwidth=binwidth, n_values=n_values)\n",
    "\n",
    "counter.getData()    # This will give you a 2D array: (number of channels, n_values)"
   ]
  },
  {
   "cell_type": "code",
   "execution_count": null,
   "metadata": {},
   "outputs": [],
   "source": []
  },
  {
   "cell_type": "code",
   "execution_count": null,
   "metadata": {},
   "outputs": [],
   "source": [
    "# Free the TimeTagger at the end of your experiment. Otherwise you won't be able to use it in other codes or the Web Application\n",
    "TimeTagger.freeTimeTagger(tagger)"
   ]
  },
  {
   "cell_type": "code",
   "execution_count": null,
   "metadata": {},
   "outputs": [],
   "source": [
    "'''\n",
    "Example: get count rate from the TimeTagger\n",
    "'''\n",
    "def get_count_rate(binwidth=0.1e12):\n",
    "    tagger = TimeTagger.createTimeTagger()\n",
    "\n",
    "    n_values = 1\n",
    "    counter = TimeTagger.Counter(tagger=tagger, channels=[1], binwidth=binwidth, n_values=n_values)\n",
    "    time.sleep(binwidth*n_values)\n",
    "    \n",
    "    PL = counter.getData()[0][0]/(binwidth/1e12)\n",
    "    TimeTagger.freeTimeTagger(tagger)\n",
    "    return PL"
   ]
  },
  {
   "cell_type": "markdown",
   "metadata": {},
   "source": [
    "## Digilent Analog Discovery 2 "
   ]
  },
  {
   "cell_type": "code",
   "execution_count": null,
   "metadata": {},
   "outputs": [],
   "source": [
    "from ctypes import *\n",
    "from dwfconstants import *    # you can copy this file from the Digilent example code folder"
   ]
  },
  {
   "cell_type": "code",
   "execution_count": null,
   "metadata": {},
   "outputs": [],
   "source": []
  },
  {
   "cell_type": "code",
   "execution_count": null,
   "metadata": {},
   "outputs": [],
   "source": [
    "# Initialization\n",
    "\n",
    "dwf = cdll.dwf\n",
    "hdwf = c_int()\n",
    "version = create_string_buffer(16)\n",
    "dwf.FDwfGetVersion(version)\n",
    "print(\"DWF Version: \"+str(version.value))\n",
    "\n",
    "print(\"Opening first device\")\n",
    "hdwf = c_int()\n",
    "dwf.FDwfDeviceOpen(c_int(-1), byref(hdwf))\n",
    "\n",
    "if hdwf.value == 0:\n",
    "    print(\"failed to open device\")\n",
    "    szerr = create_string_buffer(512)\n",
    "    dwf.FDwfGetLastErrorMsg(szerr)\n",
    "    print(str(szerr.value))\n",
    "    quit()"
   ]
  },
  {
   "cell_type": "code",
   "execution_count": null,
   "metadata": {},
   "outputs": [],
   "source": []
  },
  {
   "cell_type": "code",
   "execution_count": null,
   "metadata": {},
   "outputs": [],
   "source": [
    "'''\n",
    "This sets the 'V+' and 'V-' channel voltages to +5 V and -5V respectively, which is required by the microwave switch.\n",
    "'''\n",
    "\n",
    "# set up analog IO channel nodes\n",
    "# enable positive supply\n",
    "dwf.FDwfAnalogIOChannelNodeSet(hdwf, c_int(0), c_int(0), c_double(True)) \n",
    "# set voltage to 5 V\n",
    "dwf.FDwfAnalogIOChannelNodeSet(hdwf, c_int(0), c_int(1), c_double(5.0)) \n",
    "# enable negative supply\n",
    "dwf.FDwfAnalogIOChannelNodeSet(hdwf, c_int(1), c_int(0), c_double(True)) \n",
    "# set voltage to -5 V\n",
    "dwf.FDwfAnalogIOChannelNodeSet(hdwf, c_int(1), c_int(1), c_double(-5.0)) \n",
    "\n",
    "dwf.FDwfAnalogIOEnableSet(hdwf, c_int(True))"
   ]
  },
  {
   "cell_type": "code",
   "execution_count": null,
   "metadata": {},
   "outputs": [],
   "source": [
    "'''\n",
    "Configure the custom digital output for channel 'idxChannel'. \n",
    "The output pattern can be designed by an array 'data'. Each entry in the array lasts for 10 ns.\n",
    "'''\n",
    "\n",
    "def Configure_DO_channel(device_handle, idxChannel, data):\n",
    "    # enable the respective channel\n",
    "    dwf.FDwfDigitalOutEnableSet(device_handle, c_int(idxChannel), c_int(1))\n",
    "    # set output type\n",
    "    dwf.FDwfDigitalOutTypeSet(device_handle, c_int(idxChannel), DwfDigitalOutTypeCustom)\n",
    "    \n",
    "    # format data\n",
    "    # how many bytes we need to fit this many bits, (+7)/8\n",
    "    buffer = (c_ubyte * ((len(data) + 7) >> 3))(0)\n",
    "    # array to bits in byte array\n",
    "    for index in range(len(data)):\n",
    "        if data[index] != 0:\n",
    "            buffer[index >> 3] |= 1 << (index & 7)\n",
    "\n",
    "    # load data\n",
    "    dwf.FDwfDigitalOutDataSet(device_handle, c_int(idxChannel), byref(buffer), c_int(len(data)))"
   ]
  },
  {
   "cell_type": "code",
   "execution_count": null,
   "metadata": {},
   "outputs": [],
   "source": [
    "# turn on Digital output\n",
    "dwf.FDwfDigitalOutConfigure(hdwf, c_int(1))\n",
    "\n",
    "# turn off Digital output\n",
    "dwf.FDwfDigitalOutConfigure(hdwf, c_int(0))"
   ]
  },
  {
   "cell_type": "code",
   "execution_count": null,
   "metadata": {},
   "outputs": [],
   "source": []
  },
  {
   "cell_type": "code",
   "execution_count": null,
   "metadata": {},
   "outputs": [],
   "source": [
    "'''\n",
    "Example: turn on DO0 to turn on green laser\n",
    "'''\n",
    "\n",
    "Configure_DO_channel(hdwf, 0, [1])\n",
    "\n",
    "# turn on Digital output\n",
    "dwf.FDwfDigitalOutConfigure(hdwf, c_int(1))"
   ]
  },
  {
   "cell_type": "code",
   "execution_count": null,
   "metadata": {},
   "outputs": [],
   "source": [
    "# Close the connection to the device at the end of your experiment.\n",
    "dwf.FDwfDigitalOutReset(hdwf)\n",
    "dwf.FDwfDeviceCloseAll()"
   ]
  },
  {
   "cell_type": "markdown",
   "metadata": {},
   "source": [
    "## SRS SG384 signal generator"
   ]
  },
  {
   "cell_type": "code",
   "execution_count": null,
   "metadata": {},
   "outputs": [],
   "source": [
    "import pyvisa as visa"
   ]
  },
  {
   "cell_type": "code",
   "execution_count": null,
   "metadata": {},
   "outputs": [],
   "source": [
    "# This part is from the paper: Nature Protocols 14.9 (2019): 2707-2747.\n",
    "\n",
    "def SRSerrCheck(SRS):\n",
    "    err = SRS.query('LERR?')\n",
    "    if int(err) is not 0:\n",
    "        print('SRS error: error code', int(err),'. Please refer to SRS manual for a description of error codes.')\n",
    "        sys.exit()\n",
    "    \n",
    "def enableSRS_RFOutput(SRS):\n",
    "    SRS.write('ENBR 1')\n",
    "    SRSerrCheck(SRS)\n",
    "\n",
    "def disableSRS_RFOutput(SRS):\n",
    "    SRS.write('ENBR 0')\n",
    "    SRSerrCheck(SRS)\n",
    "    \n",
    "def setSRS_RFAmplitude(SRS,RFamplitude, units='dBm'):\n",
    "    SRS.write('AMPR '+str(RFamplitude)+' '+units)\n",
    "    SRSerrCheck(SRS)\n",
    "\n",
    "def setSRS_Freq(SRS,freq, units='Hz'):\n",
    "    #setSRSFreq: Sets frequency of the SRS output. You can call this function with one argument only (the first argument, freq),\n",
    "    # in which case the argument freq must be in Hertz. This function can also be called with both arguments, the first\n",
    "    # specifying the frequency and the second one specifying the units, as detailed below.\n",
    "    # arguments: - freq: float setting frequency of SRS. This must either be in Hz if the units argument is not passed.\n",
    "    #            - units: string describing units (e.g. 'MHz'). For SRS384, minimum unit is 'Hz', max 'GHz'\n",
    "    SRS.write('FREQ '+str(freq)+' '+units)\n",
    "    SRSerrCheck(SRS)\n",
    "    \n",
    "def enableIQmodulation(SRS):\n",
    "    SRSerrCheck(SRS)\n",
    "    #Enable modulation\n",
    "    SRS.write('MODL 1')\n",
    "    SRSerrCheck(SRS)\n",
    "    #Set modulation type to IQ\n",
    "    SRS.write('TYPE 6')\n",
    "    SRSerrCheck(SRS)\n",
    "    #Set IQ modulation function to external\n",
    "    SRS.write('QFNC 5')\n",
    "    \n",
    "def disableModulation(SRS):\n",
    "    SRS.write('MODL 0')\n",
    "    SRSerrCheck(SRS)\n",
    "    \n",
    "def queryModulationStatus(SRS):\n",
    "    status = SRS.query('MODL?')\n",
    "    SRSerrCheck(SRS)\n",
    "    if status=='1\\r\\n':\n",
    "        print('SRS modulation is on...')\n",
    "        IQstatus = SRS.query('TYPE?')\n",
    "        SRSerrCheck(SRS)\n",
    "        if IQstatus=='6\\r\\n':\n",
    "            print('...and is set to IQ')\n",
    "        else:\n",
    "            print('...but is not set to IQ.')\n",
    "    else:\n",
    "        print('SRS modulation is off.')\n",
    "    return status"
   ]
  },
  {
   "cell_type": "code",
   "execution_count": null,
   "metadata": {},
   "outputs": [],
   "source": [
    "# Connect with the device\n",
    "rm = visa.ResourceManager()\n",
    "SRS = rm.open_resource('TCPIP0::169.254.209.144::inst0::INSTR')    # you can find the address from NI MAX"
   ]
  },
  {
   "cell_type": "code",
   "execution_count": null,
   "metadata": {},
   "outputs": [],
   "source": [
    "# set the MW frequency, unit: HZ\n",
    "setSRS_Freq(SRS, 2.87e6)    \n",
    "\n",
    "# Set the MW amplitude, unit: dBm\n",
    "setSRS_RFAmplitude(SRS, 0)"
   ]
  },
  {
   "cell_type": "markdown",
   "metadata": {},
   "source": [
    "## Keysight 33622A waveform generator"
   ]
  },
  {
   "cell_type": "code",
   "execution_count": null,
   "metadata": {},
   "outputs": [],
   "source": [
    "class keysight33622A():\n",
    "    def __init__(self, address):\n",
    "        self.connected = False\n",
    "        rm = visa.ResourceManager()\n",
    "        \n",
    "        try:\n",
    "            self.inst = rm.open_resource(address, access_mode=4) # access_mode set to load interface params from NI-Max\n",
    "            self.connected = True\n",
    "        except:\n",
    "            warnings.warn('Dev %s not found.' % address)\n",
    "    def set_timeout(self, timeout):\n",
    "        self.inst.timeout = timeout\n",
    "    \n",
    "    def set_func(self, ch, fun):\n",
    "        self.inst.write('SOUR%d:FUNC %s' % (ch, fun))\n",
    "\n",
    "    def set_freq(self, ch, freq):\n",
    "        self.inst.write('SOUR%d:FREQ %.3f' % (ch, freq))\n",
    "\n",
    "    def set_amplitude(self, ch, amp):\n",
    "        self.set_limits()\n",
    "        self.inst.write('SOUR%d:VOLT %.3f' % (ch, amp))\n",
    "\n",
    "    def set_dc(self, ch, v):\n",
    "        self.inst.write('SOUR%d:VOLT:OFFS %.3f' % (ch, v))\n",
    "\n",
    "    def set_amplitude_wfm(self, ch, low, high):\n",
    "        if low == 0 and high == 0:\n",
    "            self.inst.write('SOUR%d:VOLT:LOW MIN' % (ch))\n",
    "            self.inst.write('SOUR%d:VOLT:HIGH MAX' % (ch))\n",
    "        else:\n",
    "            self.inst.write('SOUR%d:VOLT:LOW %.3f' % (ch, low))\n",
    "            self.inst.write('SOUR%d:VOLT:HIGH %.3f' % (ch, high))\n",
    "\n",
    "    def set_output(self, b):\n",
    "        self.inst.write('OUTP1 %d' % b)\n",
    "        self.inst.write('OUTP2 %d' % b)\n",
    "\n",
    "    def set_triggered(self, ch, b):\n",
    "        self.inst.write('SOUR%d:BURS:STAT %d' % (ch, b))\n",
    "        if bool(b):\n",
    "            self.inst.write('SOUR%d:BURS:MODE TRIG' % ch)\n",
    "            self.inst.write('SOUR%d:BURS:NCYC 1' % ch)\n",
    "            self.inst.write('TRIG%d:SOUR EXT' % ch)\n",
    "\n",
    "    def set_wfm(self, ch, wfm, sampl=250e6):\n",
    "        self.set_func(ch, 'ARB') # arbitrary function\n",
    "        self.inst.write('SOUR%d:FUNC:ARB:SRAT %d' % (ch, sampl)) # sample rate\n",
    "        self.inst.write('SOUR%d:FUNC:ARB:FILT OFF' % ch) # Arbitrary filter\n",
    "        self.set_triggered(ch, 1)\n",
    "\n",
    "        self.inst.write('SOUR%d:DATA:VOL:CLE' % ch) # Data volatile clear\n",
    "\n",
    "        wfm_array = np.array(wfm)\n",
    "\n",
    "        header = 'SOUR%d:DATA:ARB wfm%d, ' % (ch, ch)\n",
    "\n",
    "        self.inst.write('FORMat:BORDer SWAP')\n",
    "\n",
    "        # this function takes care of the binary block header by itself\n",
    "        self.inst.write_binary_values(header, wfm_array)\n",
    "\n",
    "        self.inst.write('SOUR%d:FUNC:ARB wfm%d' % (ch, ch))\n",
    "\n",
    "    def set_wfm_dual(self, wfm1, wfm2, sampl=250e6):\n",
    "        # wfm is a list of float, normalized to 1\n",
    "        self.set_wfm(1, wfm1, sampl)\n",
    "        self.set_wfm(2, wfm2, sampl)\n",
    "\n",
    "    def set_limits(self):\n",
    "        self.inst.write('SOUR1:VOLT:LIM:STAT 1') # voltage limit state 0:off, 1:on\n",
    "        self.inst.write('SOUR1:VOLT:LIM:LOW %f' % -0.5)\n",
    "        self.inst.write('SOUR1:VOLT:LIM:HIGH %f' % 0.5)\n",
    "        self.inst.write('SOUR2:VOLT:LIM:STAT 1')\n",
    "        self.inst.write('SOUR2:VOLT:LIM:LOW %f' % -0.5)\n",
    "        self.inst.write('SOUR2:VOLT:LIM:HIGH %f' % 0.5)\n",
    "\n",
    "    def get_error(self):\n",
    "        err = self.inst.query('SYST:ERR?')\n",
    "        \n",
    "        if '+0' in err:\n",
    "            print(err)\n",
    "        else:\n",
    "            error_all = ''\n",
    "            max_err = 20  # maximum number of errors to read - prevent infinite loop\n",
    "            itr = 0\n",
    "            while '+0' not in err and itr < max_err:\n",
    "                error_all += err\n",
    "                err = self.inst.query('SYST:ERR?')\n",
    "                itr += 1\n",
    "            if itr >= max_err:\n",
    "                print('More than %d error messages occurred. You are probably doing something stupid...' % max_err)\n",
    "            return error_all\n",
    "\n",
    "    def set_view(self, mode):\n",
    "        # mode: STANdard|TEXT|GRAPh|DUAL\n",
    "        self.inst.write('DISP:VIEW %s' % mode)\n",
    "    \n",
    "    def beep(self):\n",
    "        self.inst.write('SYST:BEEP')\n",
    "    def set_beep(self, b):\n",
    "#         awg can still beep by running self.beep(), but it won't beep when error occurs\n",
    "        self.inst.write('SYST:BEEP:STAT %d' % b)"
   ]
  },
  {
   "cell_type": "code",
   "execution_count": null,
   "metadata": {},
   "outputs": [],
   "source": [
    "awg = keysight33622A(address='AWG_deLeon_lab')    # you can find the address in NI MAX"
   ]
  },
  {
   "cell_type": "markdown",
   "metadata": {},
   "source": [
    "# Confocal Microscopy"
   ]
  },
  {
   "cell_type": "markdown",
   "metadata": {},
   "source": [
    "## Turn on the green laser\n",
    "- Turn on Digilent Digital Ouput channel 0"
   ]
  },
  {
   "cell_type": "code",
   "execution_count": null,
   "metadata": {},
   "outputs": [],
   "source": []
  },
  {
   "cell_type": "markdown",
   "metadata": {},
   "source": [
    "## Focus the laser on the diamond surface\n",
    "- Use the manual translation stage and check through the ThorCam to find the smallest laser spot position"
   ]
  },
  {
   "cell_type": "markdown",
   "metadata": {},
   "source": [
    "## Move the nanopositioning system to focus at a few microns inside the diamond\n",
    "- Scan the nanopositioning system in Z direction and get the counts from TimeTagger for each step.\n",
    "- Adjust the binwidth of the TimeTagger until you get reasonable sigal-to-noise ratio.\n",
    "- Make a plot and fit with a proper function to find the diamond surface position.\n",
    "- Move the Z position to look inside the diamond. How can you tell which direction the nanopositioning system is moving in?"
   ]
  },
  {
   "cell_type": "code",
   "execution_count": null,
   "metadata": {},
   "outputs": [],
   "source": [
    "# Hint: when you move the nanopositioning system or collect data from TimeTagger. Allow the devices enough time to finish.\n",
    "time.sleep(1)    # add sleep time in your code, unit: second"
   ]
  },
  {
   "cell_type": "markdown",
   "metadata": {},
   "source": [
    "## Scan the nanopositioning system in X and Y directions and get a confocal scan image\n",
    "- Estimate the binwidth you need based on the count rate of an NV center.\n",
    "- Estimate the size and shape of an NV center you can see from a confocal image. Use this to find the resolution you need in your confocal scan and check whether what you find is an NV.\n",
    "- You might see signal from other sources. Move to a region with low background counts to find your NV center. \n",
    "- If you can't find any NV, try scanning another region or moving to another Z position."
   ]
  },
  {
   "cell_type": "code",
   "execution_count": null,
   "metadata": {},
   "outputs": [],
   "source": []
  },
  {
   "cell_type": "markdown",
   "metadata": {},
   "source": [
    "## Find the accurate positions of NV centers\n",
    "- Run X, Y and Z scans around the rough NV positions you find from your confocal image. Fit your data to get the accurate positions.\n",
    "- Store your NV positions and confocal image properly so that you can go back to your NVs later.\n",
    "- Move the nanopositioning system to one NV center for following experiments."
   ]
  },
  {
   "cell_type": "code",
   "execution_count": null,
   "metadata": {},
   "outputs": [],
   "source": []
  },
  {
   "cell_type": "markdown",
   "metadata": {},
   "source": [
    "# ODMR "
   ]
  },
  {
   "cell_type": "markdown",
   "metadata": {},
   "source": [
    "## Power on the microwave amplifier\n",
    "- Please power off the high power amplifier when you leave the lab."
   ]
  },
  {
   "cell_type": "markdown",
   "metadata": {},
   "source": [
    "## Sample drifting by microwave\n",
    "- When you turn on the microwave signal, the sample will drift relative to the objective. You will notice a decrease in your PL signal. \n",
    "- Write a function to easily run the X, Y and Z scans to update the NV positions. You will need to run this frequently to keep track of your NV center.\n",
    "- To minimize the drift, keep microwave power less than 0 dBm. Also design the experiment to decrease microwave duty cycle. \n"
   ]
  },
  {
   "cell_type": "markdown",
   "metadata": {},
   "source": [
    "## Signal v.s. Reference\n",
    "- As you will see a decrease in your overall PL signal, it'll be better to collect some reference signal to cancel out this overall drift. You can create two counters from the TimeTagger for signal and reference collection. And you need to tell the TimeTagger when to collect signal data and when to collect reference data. You can design the patterns of two digital output channels from the Digilent and send the signal to the TimeTagger.\n",
    "- Use the 'CountBetweenMarkers' measurement class to collect your signal and reference data."
   ]
  },
  {
   "cell_type": "code",
   "execution_count": null,
   "metadata": {},
   "outputs": [],
   "source": [
    "# CountBetweenMarkers\n",
    "n_rep = 1000000\n",
    "\n",
    "# The default value is 0.5 V. Changing it to 0.4 V makes the 'CountBetweenMarkers' better.\n",
    "tagger.setTriggerLevel(channel=3, voltage=0.40)     \n",
    "tagger.setTriggerLevel(channel=4, voltage=0.40)\n",
    "\n",
    "# Count the data from channel 1. Use channel 3 as the trigger. 3/-3 indicate the rising/falling edge of that channel\n",
    "sig_counter = TimeTagger.CountBetweenMarkers(tagger=tagger, \n",
    "                                             click_channel=1, \n",
    "                                             begin_channel=3, \n",
    "                                             end_channel=-3, \n",
    "                                             n_values= n_rep)\n",
    "\n",
    "ref_counter = TimeTagger.CountBetweenMarkers(tagger=tagger, \n",
    "                                            click_channel=1, \n",
    "                                            begin_channel=4, \n",
    "                                            end_channel=-4, \n",
    "                                            n_values= n_rep)"
   ]
  },
  {
   "cell_type": "markdown",
   "metadata": {},
   "source": [
    "## Data analysis\n",
    "- Fit your ODMR data to a Lorentzian function and obtain the transition frequency.\n",
    "- Measure multiples NV centers. Do they have the same transition frequency or not?\n",
    "- Move the magnet position. Check if the transition frequency changes as expected. Hint: when you are running your first experiment, you can remove the magnet or put it at the farthest position from the diamond, so that you know the expected transition frequency."
   ]
  },
  {
   "cell_type": "code",
   "execution_count": null,
   "metadata": {},
   "outputs": [],
   "source": []
  },
  {
   "cell_type": "markdown",
   "metadata": {},
   "source": [
    "# Pulse experiment"
   ]
  },
  {
   "cell_type": "markdown",
   "metadata": {},
   "source": [
    "## Pulse design\n",
    "\n",
    "- Write a function or class to conveniently design your experiment pulse sequence. You should be able to modify the width of a certain part of your pulse sequence easily. For example, in your Rabi experiment you need to sweep the microwave pulse width.\n",
    "- Connect the digital output channels to the oscilloscope to verify your pulse design. You can also use the photodiode to detect your green laser pulses. \n"
   ]
  },
  {
   "cell_type": "code",
   "execution_count": null,
   "metadata": {},
   "outputs": [],
   "source": []
  },
  {
   "cell_type": "markdown",
   "metadata": {},
   "source": [
    "## Delay time\n",
    "- When you design the pulse sequence, you are specifying the timing of the digital output channels from the Digilent. You use these digital output channels to control different devices, like the laser AOM, microwave switch and the timing in the TimeTagger. Those different devices have different response times. You need to compensate these different response times by adding delay times in your pulse sequence.\n",
    "\n",
    "- The laser AOM especially has a long response time. Use the photodiode to measure the required delay time for the AOM."
   ]
  },
  {
   "cell_type": "code",
   "execution_count": null,
   "metadata": {},
   "outputs": [],
   "source": []
  },
  {
   "cell_type": "markdown",
   "metadata": {},
   "source": [
    "## NV signal readout\n",
    "- As you learned in the class, we can readout NV spin state by collecting the PL from the green excitation. It's important to collect only the initial 300 ns of the NV PL as the NV spin state will be polarized by the green laser afterwards. So you also need to be careful about the delay time when specifying your readout window.\n",
    "- Like what you did in the ODMR experiment, you can design another readout window for your reference data."
   ]
  },
  {
   "cell_type": "code",
   "execution_count": null,
   "metadata": {},
   "outputs": [],
   "source": []
  },
  {
   "cell_type": "markdown",
   "metadata": {},
   "source": [
    "## Data analysis\n",
    "- Run a Rabi measurement to calibrate your $\\pi$ and $\\pi/2$ pulse times. For this experiment, as the duty cyle is relatively low, you can use high microwave power, but don't exceed the limit of the amplifier (9 dBm).\n",
    "- Use your calibrated $\\pi$ and $\\pi/2$ pulses to run Ramsey and Hahn echo measurements."
   ]
  },
  {
   "cell_type": "code",
   "execution_count": null,
   "metadata": {},
   "outputs": [],
   "source": []
  }
 ],
 "metadata": {
  "kernelspec": {
   "display_name": "Python 3",
   "language": "python",
   "name": "python3"
  },
  "language_info": {
   "codemirror_mode": {
    "name": "ipython",
    "version": 3
   },
   "file_extension": ".py",
   "mimetype": "text/x-python",
   "name": "python",
   "nbconvert_exporter": "python",
   "pygments_lexer": "ipython3",
   "version": "3.8.5"
  }
 },
 "nbformat": 4,
 "nbformat_minor": 4
}
